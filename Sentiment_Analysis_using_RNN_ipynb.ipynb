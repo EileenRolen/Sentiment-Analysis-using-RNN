{
  "nbformat": 4,
  "nbformat_minor": 0,
  "metadata": {
    "colab": {
      "provenance": [],
      "gpuType": "T4"
    },
    "kernelspec": {
      "name": "python3",
      "display_name": "Python 3"
    },
    "language_info": {
      "name": "python"
    },
    "accelerator": "GPU"
  },
  "cells": [
    {
      "cell_type": "code",
      "execution_count": 1,
      "metadata": {
        "id": "IyID0NYva_an"
      },
      "outputs": [],
      "source": [
        "#importing libraries\n",
        "from tensorflow.keras.layers import SimpleRNN, LSTM, GRU, Bidirectional, Dense, Embedding\n",
        "from tensorflow.keras.datasets import imdb\n",
        "from tensorflow.keras.models import Sequential\n",
        "import numpy as np"
      ]
    },
    {
      "cell_type": "code",
      "source": [
        "# Only the most frequent 5000 words will be used\n",
        "vocab_size = 5000\n",
        "(x_train, y_train), (x_test, y_test) = imdb.load_data(num_words=vocab_size)"
      ],
      "metadata": {
        "colab": {
          "base_uri": "https://localhost:8080/"
        },
        "id": "N3J9EE_Wb60O",
        "outputId": "ec19f7f1-4dda-4723-f9a2-93b7b9403ac7"
      },
      "execution_count": 2,
      "outputs": [
        {
          "output_type": "stream",
          "name": "stdout",
          "text": [
            "Downloading data from https://storage.googleapis.com/tensorflow/tf-keras-datasets/imdb.npz\n",
            "17464789/17464789 [==============================] - 2s 0us/step\n"
          ]
        }
      ]
    },
    {
      "cell_type": "code",
      "source": [
        " print(x_train[0])"
      ],
      "metadata": {
        "colab": {
          "base_uri": "https://localhost:8080/"
        },
        "id": "ixju9NIEcCtE",
        "outputId": "76258cd5-31a3-41dc-e02e-fbc4c8473c2d"
      },
      "execution_count": 3,
      "outputs": [
        {
          "output_type": "stream",
          "name": "stdout",
          "text": [
            "[1, 14, 22, 16, 43, 530, 973, 1622, 1385, 65, 458, 4468, 66, 3941, 4, 173, 36, 256, 5, 25, 100, 43, 838, 112, 50, 670, 2, 9, 35, 480, 284, 5, 150, 4, 172, 112, 167, 2, 336, 385, 39, 4, 172, 4536, 1111, 17, 546, 38, 13, 447, 4, 192, 50, 16, 6, 147, 2025, 19, 14, 22, 4, 1920, 4613, 469, 4, 22, 71, 87, 12, 16, 43, 530, 38, 76, 15, 13, 1247, 4, 22, 17, 515, 17, 12, 16, 626, 18, 2, 5, 62, 386, 12, 8, 316, 8, 106, 5, 4, 2223, 2, 16, 480, 66, 3785, 33, 4, 130, 12, 16, 38, 619, 5, 25, 124, 51, 36, 135, 48, 25, 1415, 33, 6, 22, 12, 215, 28, 77, 52, 5, 14, 407, 16, 82, 2, 8, 4, 107, 117, 2, 15, 256, 4, 2, 7, 3766, 5, 723, 36, 71, 43, 530, 476, 26, 400, 317, 46, 7, 4, 2, 1029, 13, 104, 88, 4, 381, 15, 297, 98, 32, 2071, 56, 26, 141, 6, 194, 2, 18, 4, 226, 22, 21, 134, 476, 26, 480, 5, 144, 30, 2, 18, 51, 36, 28, 224, 92, 25, 104, 4, 226, 65, 16, 38, 1334, 88, 12, 16, 283, 5, 16, 4472, 113, 103, 32, 15, 16, 2, 19, 178, 32]\n"
          ]
        }
      ]
    },
    {
      "cell_type": "code",
      "source": [
        "# Getting all the words from word_index dictionary\n",
        "word_idx = imdb.get_word_index()\n",
        "#converting the index as key and the words as values\n",
        "word_idx = {i: word for word, i in word_idx.items()}\n",
        "print([word_idx[i] for i in x_train[0]])"
      ],
      "metadata": {
        "colab": {
          "base_uri": "https://localhost:8080/"
        },
        "id": "-o_SOdAacEmL",
        "outputId": "b0a3c0bc-8f00-42cb-fefc-be0f5fa978df"
      },
      "execution_count": 4,
      "outputs": [
        {
          "output_type": "stream",
          "name": "stdout",
          "text": [
            "Downloading data from https://storage.googleapis.com/tensorflow/tf-keras-datasets/imdb_word_index.json\n",
            "1641221/1641221 [==============================] - 1s 1us/step\n",
            "['the', 'as', 'you', 'with', 'out', 'themselves', 'powerful', 'lets', 'loves', 'their', 'becomes', 'reaching', 'had', 'journalist', 'of', 'lot', 'from', 'anyone', 'to', 'have', 'after', 'out', 'atmosphere', 'never', 'more', 'room', 'and', 'it', 'so', 'heart', 'shows', 'to', 'years', 'of', 'every', 'never', 'going', 'and', 'help', 'moments', 'or', 'of', 'every', 'chest', 'visual', 'movie', 'except', 'her', 'was', 'several', 'of', 'enough', 'more', 'with', 'is', 'now', 'current', 'film', 'as', 'you', 'of', 'mine', 'potentially', 'unfortunately', 'of', 'you', 'than', 'him', 'that', 'with', 'out', 'themselves', 'her', 'get', 'for', 'was', 'camp', 'of', 'you', 'movie', 'sometimes', 'movie', 'that', 'with', 'scary', 'but', 'and', 'to', 'story', 'wonderful', 'that', 'in', 'seeing', 'in', 'character', 'to', 'of', '70s', 'and', 'with', 'heart', 'had', 'shadows', 'they', 'of', 'here', 'that', 'with', 'her', 'serious', 'to', 'have', 'does', 'when', 'from', 'why', 'what', 'have', 'critics', 'they', 'is', 'you', 'that', \"isn't\", 'one', 'will', 'very', 'to', 'as', 'itself', 'with', 'other', 'and', 'in', 'of', 'seen', 'over', 'and', 'for', 'anyone', 'of', 'and', 'br', \"show's\", 'to', 'whether', 'from', 'than', 'out', 'themselves', 'history', 'he', 'name', 'half', 'some', 'br', 'of', 'and', 'odd', 'was', 'two', 'most', 'of', 'mean', 'for', '1', 'any', 'an', 'boat', 'she', 'he', 'should', 'is', 'thought', 'and', 'but', 'of', 'script', 'you', 'not', 'while', 'history', 'he', 'heart', 'to', 'real', 'at', 'and', 'but', 'when', 'from', 'one', 'bit', 'then', 'have', 'two', 'of', 'script', 'their', 'with', 'her', 'nobody', 'most', 'that', 'with', \"wasn't\", 'to', 'with', 'armed', 'acting', 'watch', 'an', 'for', 'with', 'and', 'film', 'want', 'an']\n"
          ]
        }
      ]
    },
    {
      "cell_type": "code",
      "source": [
        "# Get the minimum and the maximum length of reviews\n",
        "print(\"Max length of a review:: \", len(max((x_train+x_test), key=len)))\n",
        "print(\"Min length of a review:: \", len(min((x_train+x_test), key=len)))"
      ],
      "metadata": {
        "colab": {
          "base_uri": "https://localhost:8080/"
        },
        "id": "wIObl3x2cGn7",
        "outputId": "266c0607-e9bc-4cf8-c13a-4c3ae3180b23"
      },
      "execution_count": 5,
      "outputs": [
        {
          "output_type": "stream",
          "name": "stdout",
          "text": [
            "Max length of a review::  2697\n",
            "Min length of a review::  70\n"
          ]
        }
      ]
    },
    {
      "cell_type": "code",
      "source": [
        "# To make sure that we have inputs in fixed size, we will pad the review sentences\n",
        "\n",
        "from tensorflow.keras.preprocessing import sequence\n",
        "max_words = 400\n",
        "x_train = sequence.pad_sequences(x_train, maxlen = max_words)\n",
        "x_test = sequence.pad_sequences(x_test, maxlen = max_words)\n",
        "\n",
        "x_valid, y_valid = x_train[:64,], y_train[:64]\n",
        "x_train_, y_train_ = x_train[64:], y_train[64:]"
      ],
      "metadata": {
        "id": "LJF8dt7dcIHs"
      },
      "execution_count": 6,
      "outputs": []
    },
    {
      "cell_type": "code",
      "source": [
        "#Model Training"
      ],
      "metadata": {
        "id": "sqOXv7cScLBS"
      },
      "execution_count": 7,
      "outputs": []
    },
    {
      "cell_type": "code",
      "source": [
        "#SimpleRNN"
      ],
      "metadata": {
        "id": "hyl1jfJicMmk"
      },
      "execution_count": 7,
      "outputs": []
    },
    {
      "cell_type": "code",
      "source": [
        "# setting every word's embedding size to be 32\n",
        "embed_len = 32"
      ],
      "metadata": {
        "id": "Z_v0LWCZcXkR"
      },
      "execution_count": 8,
      "outputs": []
    },
    {
      "cell_type": "code",
      "source": [
        "# Creating a RNN model\n",
        "RNN_model = Sequential(name ='Simple_RNN')\n",
        "RNN_model.add(Embedding(vocab_size, embed_len, input_length=max_words))\n",
        "RNN_model.add(SimpleRNN(128, activation='tanh', return_sequences=False))\n",
        "RNN_model.add(Dense(1, activation='sigmoid'))"
      ],
      "metadata": {
        "id": "GIFO-pYNcNJx"
      },
      "execution_count": 9,
      "outputs": []
    },
    {
      "cell_type": "code",
      "source": [
        "#model summary\n",
        "RNN_model.summary()"
      ],
      "metadata": {
        "colab": {
          "base_uri": "https://localhost:8080/"
        },
        "id": "cWQSN3H9cNMj",
        "outputId": "e9b5ff8f-50a3-4a4f-f858-a55f83b95e04"
      },
      "execution_count": 10,
      "outputs": [
        {
          "output_type": "stream",
          "name": "stdout",
          "text": [
            "Model: \"Simple_RNN\"\n",
            "_________________________________________________________________\n",
            " Layer (type)                Output Shape              Param #   \n",
            "=================================================================\n",
            " embedding (Embedding)       (None, 400, 32)           160000    \n",
            "                                                                 \n",
            " simple_rnn (SimpleRNN)      (None, 128)               20608     \n",
            "                                                                 \n",
            " dense (Dense)               (None, 1)                 129       \n",
            "                                                                 \n",
            "=================================================================\n",
            "Total params: 180737 (706.00 KB)\n",
            "Trainable params: 180737 (706.00 KB)\n",
            "Non-trainable params: 0 (0.00 Byte)\n",
            "_________________________________________________________________\n"
          ]
        }
      ]
    },
    {
      "cell_type": "code",
      "source": [
        "# Compiling model\n",
        "RNN_model.compile(loss=\"binary_crossentropy\", optimizer='adam', metrics=['accuracy'])"
      ],
      "metadata": {
        "id": "oqhtjbcRcNPS"
      },
      "execution_count": 11,
      "outputs": []
    },
    {
      "cell_type": "code",
      "source": [
        "# Training the model\n",
        "history = RNN_model.fit(x_train_, y_train_,\n",
        "                        batch_size=64,\n",
        "                        epochs=5,\n",
        "                        verbose=1,\n",
        "                        validation_data=(x_valid, y_valid))"
      ],
      "metadata": {
        "colab": {
          "base_uri": "https://localhost:8080/"
        },
        "id": "LpXGk10DcNSc",
        "outputId": "36281bc2-7d25-45cf-c3ff-537627e14210"
      },
      "execution_count": 12,
      "outputs": [
        {
          "output_type": "stream",
          "name": "stdout",
          "text": [
            "Epoch 1/5\n",
            "390/390 [==============================] - 175s 442ms/step - loss: 0.6311 - accuracy: 0.6160 - val_loss: 1.0160 - val_accuracy: 0.4531\n",
            "Epoch 2/5\n",
            "390/390 [==============================] - 147s 376ms/step - loss: 0.6037 - accuracy: 0.6763 - val_loss: 0.6061 - val_accuracy: 0.6406\n",
            "Epoch 3/5\n",
            "390/390 [==============================] - 141s 361ms/step - loss: 0.4868 - accuracy: 0.7705 - val_loss: 0.5369 - val_accuracy: 0.7812\n",
            "Epoch 4/5\n",
            "390/390 [==============================] - 135s 346ms/step - loss: 0.5249 - accuracy: 0.7362 - val_loss: 0.6867 - val_accuracy: 0.5312\n",
            "Epoch 5/5\n",
            "390/390 [==============================] - 138s 353ms/step - loss: 0.5094 - accuracy: 0.7571 - val_loss: 0.5835 - val_accuracy: 0.7344\n"
          ]
        }
      ]
    },
    {
      "cell_type": "code",
      "source": [
        "#model accuracy on test data\n",
        "print(\"Simple_RNN Score---> \", RNN_model.evaluate(x_test, y_test, verbose=0))"
      ],
      "metadata": {
        "colab": {
          "base_uri": "https://localhost:8080/"
        },
        "id": "9Kr5iXEncNV5",
        "outputId": "13b6234b-53d8-4423-8b9a-c4137933574b"
      },
      "execution_count": 13,
      "outputs": [
        {
          "output_type": "stream",
          "name": "stdout",
          "text": [
            "Simple_RNN Score--->  [0.4929114580154419, 0.7781599760055542]\n"
          ]
        }
      ]
    },
    {
      "cell_type": "code",
      "source": [
        "# Simple RNN gives a test accuracy of 77.81%\n",
        "# Limitations of Simple RNN are it is unable to handle long sentences well because of its vanishing gradient problems."
      ],
      "metadata": {
        "id": "KEZM1IA-cgRf"
      },
      "execution_count": null,
      "outputs": []
    },
    {
      "cell_type": "code",
      "source": [
        "#Gated Recurrent Units (GRU)"
      ],
      "metadata": {
        "id": "AX9M3O8ScgUk"
      },
      "execution_count": null,
      "outputs": []
    },
    {
      "cell_type": "code",
      "source": [
        "gru_model = Sequential(name=\"GRU_Model\")\n",
        "gru_model.add(Embedding(vocab_size, embed_len, input_length=max_words))\n",
        "gru_model.add(GRU(128, activation='tanh', return_sequences=False))\n",
        "gru_model.add(Dense(1, activation='sigmoid'))"
      ],
      "metadata": {
        "id": "lHa5k4sMcgXQ"
      },
      "execution_count": 14,
      "outputs": []
    },
    {
      "cell_type": "code",
      "source": [
        "gru_model.summary()"
      ],
      "metadata": {
        "colab": {
          "base_uri": "https://localhost:8080/"
        },
        "id": "Q6l9YVJvcgZf",
        "outputId": "53bd884f-e923-47d2-bb52-92decc4dc6e1"
      },
      "execution_count": 15,
      "outputs": [
        {
          "output_type": "stream",
          "name": "stdout",
          "text": [
            "Model: \"GRU_Model\"\n",
            "_________________________________________________________________\n",
            " Layer (type)                Output Shape              Param #   \n",
            "=================================================================\n",
            " embedding_1 (Embedding)     (None, 400, 32)           160000    \n",
            "                                                                 \n",
            " gru (GRU)                   (None, 128)               62208     \n",
            "                                                                 \n",
            " dense_1 (Dense)             (None, 1)                 129       \n",
            "                                                                 \n",
            "=================================================================\n",
            "Total params: 222337 (868.50 KB)\n",
            "Trainable params: 222337 (868.50 KB)\n",
            "Non-trainable params: 0 (0.00 Byte)\n",
            "_________________________________________________________________\n"
          ]
        }
      ]
    },
    {
      "cell_type": "code",
      "source": [
        "# Compiling the model\n",
        "gru_model.compile( loss=\"binary_crossentropy\", optimizer='adam', metrics=['accuracy'])"
      ],
      "metadata": {
        "id": "U8FxuAhNfsMo"
      },
      "execution_count": 17,
      "outputs": []
    },
    {
      "cell_type": "code",
      "source": [
        "# Training the GRU model\n",
        "history2 = gru_model.fit(x_train_, y_train_,\n",
        "                         batch_size=64,\n",
        "                         epochs=5,\n",
        "                         verbose=1,\n",
        "                         validation_data=(x_valid, y_valid))"
      ],
      "metadata": {
        "colab": {
          "base_uri": "https://localhost:8080/"
        },
        "id": "HWvoyTnVf1PH",
        "outputId": "fc2dc366-55ec-48e5-cdb2-0482fe34f10b"
      },
      "execution_count": 19,
      "outputs": [
        {
          "output_type": "stream",
          "name": "stdout",
          "text": [
            "Epoch 1/5\n",
            "390/390 [==============================] - 34s 83ms/step - loss: 0.5230 - accuracy: 0.7189 - val_loss: 0.3147 - val_accuracy: 0.8750\n",
            "Epoch 2/5\n",
            "390/390 [==============================] - 15s 39ms/step - loss: 0.3160 - accuracy: 0.8699 - val_loss: 0.2161 - val_accuracy: 0.9219\n",
            "Epoch 3/5\n",
            "390/390 [==============================] - 11s 27ms/step - loss: 0.2498 - accuracy: 0.9006 - val_loss: 0.2281 - val_accuracy: 0.8906\n",
            "Epoch 4/5\n",
            "390/390 [==============================] - 9s 24ms/step - loss: 0.2019 - accuracy: 0.9229 - val_loss: 0.1607 - val_accuracy: 0.9531\n",
            "Epoch 5/5\n",
            "390/390 [==============================] - 8s 21ms/step - loss: 0.1698 - accuracy: 0.9347 - val_loss: 0.1455 - val_accuracy: 0.9531\n"
          ]
        }
      ]
    },
    {
      "cell_type": "code",
      "source": [
        "#model accuracy on test data\n",
        "print(\"GRU model Score---> \", gru_model.evaluate(x_test, y_test, verbose=0))"
      ],
      "metadata": {
        "colab": {
          "base_uri": "https://localhost:8080/"
        },
        "id": "r_rbGdtfcgil",
        "outputId": "f536d16c-7afd-4687-bf28-686eed34eb2b"
      },
      "execution_count": 20,
      "outputs": [
        {
          "output_type": "stream",
          "name": "stdout",
          "text": [
            "GRU model Score--->  [0.31102603673934937, 0.881600022315979]\n"
          ]
        }
      ]
    },
    {
      "cell_type": "code",
      "source": [
        "# GRU gives a test accuracy of 88.16%\n",
        "# GRU is a form of RNN that are better than simple RNN and are often faster than LSTM due to its relatively fewer training parameters"
      ],
      "metadata": {
        "id": "-LTHiHBxcNZN"
      },
      "execution_count": null,
      "outputs": []
    },
    {
      "cell_type": "code",
      "source": [
        "# Long Short Term Memory (LSTM)"
      ],
      "metadata": {
        "id": "hJtRaHgqcNci"
      },
      "execution_count": null,
      "outputs": []
    },
    {
      "cell_type": "code",
      "source": [
        "lstm_model = Sequential(name=\"LSTM_Model\")\n",
        "lstm_model.add(Embedding(vocab_size, embed_len, input_length=max_words))\n",
        "lstm_model.add(LSTM(128, activation='relu', return_sequences=False))\n",
        "lstm_model.add(Dense(1, activation='sigmoid'))"
      ],
      "metadata": {
        "id": "kUlmGTc5czbo"
      },
      "execution_count": null,
      "outputs": []
    },
    {
      "cell_type": "code",
      "source": [
        "lstm_model.summary()"
      ],
      "metadata": {
        "colab": {
          "base_uri": "https://localhost:8080/"
        },
        "id": "QFZF4DQAczew",
        "outputId": "f4233ff9-04a6-4d7c-b94b-f67ece5b0d06"
      },
      "execution_count": 23,
      "outputs": [
        {
          "output_type": "stream",
          "name": "stdout",
          "text": [
            "Model: \"LSTM_Model\"\n",
            "_________________________________________________________________\n",
            " Layer (type)                Output Shape              Param #   \n",
            "=================================================================\n",
            " embedding_3 (Embedding)     (None, 400, 32)           160000    \n",
            "                                                                 \n",
            " lstm_1 (LSTM)               (None, 128)               82432     \n",
            "                                                                 \n",
            " dense_3 (Dense)             (None, 1)                 129       \n",
            "                                                                 \n",
            "=================================================================\n",
            "Total params: 242561 (947.50 KB)\n",
            "Trainable params: 242561 (947.50 KB)\n",
            "Non-trainable params: 0 (0.00 Byte)\n",
            "_________________________________________________________________\n"
          ]
        }
      ]
    },
    {
      "cell_type": "code",
      "source": [
        "# Compiling the model\n",
        "lstm_model.compile(loss=\"binary_crossentropy\", optimizer='adam', metrics=['accuracy'])"
      ],
      "metadata": {
        "id": "DORbkh8lczhE"
      },
      "execution_count": 24,
      "outputs": []
    },
    {
      "cell_type": "code",
      "source": [
        "# Training the model\n",
        "history3 = gru_model.fit(x_train_, y_train_,\n",
        "                         batch_size=64,\n",
        "                         epochs=5,\n",
        "                         verbose=1,\n",
        "                         validation_data=(x_valid, y_valid))"
      ],
      "metadata": {
        "colab": {
          "base_uri": "https://localhost:8080/"
        },
        "id": "5cK7jQ6YczlD",
        "outputId": "7915fe4a-d6c3-43b1-9888-0bb1b10307ac"
      },
      "execution_count": 25,
      "outputs": [
        {
          "output_type": "stream",
          "name": "stdout",
          "text": [
            "Epoch 1/5\n",
            "390/390 [==============================] - 9s 23ms/step - loss: 0.1323 - accuracy: 0.9514 - val_loss: 0.2426 - val_accuracy: 0.8750\n",
            "Epoch 2/5\n",
            "390/390 [==============================] - 7s 19ms/step - loss: 0.1050 - accuracy: 0.9633 - val_loss: 0.2866 - val_accuracy: 0.9062\n",
            "Epoch 3/5\n",
            "390/390 [==============================] - 8s 21ms/step - loss: 0.0807 - accuracy: 0.9727 - val_loss: 0.2736 - val_accuracy: 0.8906\n",
            "Epoch 4/5\n",
            "390/390 [==============================] - 8s 20ms/step - loss: 0.0679 - accuracy: 0.9767 - val_loss: 0.2719 - val_accuracy: 0.8906\n",
            "Epoch 5/5\n",
            "390/390 [==============================] - 7s 18ms/step - loss: 0.0539 - accuracy: 0.9826 - val_loss: 0.3395 - val_accuracy: 0.8750\n"
          ]
        }
      ]
    },
    {
      "cell_type": "code",
      "source": [
        "#model accuracy on test data\n",
        "print(\"LSTM model Score---> \", lstm_model.evaluate(x_test, y_test, verbose=0))"
      ],
      "metadata": {
        "colab": {
          "base_uri": "https://localhost:8080/"
        },
        "id": "daqexLkJczny",
        "outputId": "0e763bb3-431e-4fa9-84e0-c8d1a432cc4c"
      },
      "execution_count": 26,
      "outputs": [
        {
          "output_type": "stream",
          "name": "stdout",
          "text": [
            "LSTM model Score--->  [0.6931726336479187, 0.5001199841499329]\n"
          ]
        }
      ]
    },
    {
      "cell_type": "code",
      "source": [
        "# LSTM model Provided a test accuracy of 50.01%"
      ],
      "metadata": {
        "id": "ZDlylri6czqh"
      },
      "execution_count": null,
      "outputs": []
    },
    {
      "cell_type": "code",
      "source": [
        "#Bi-directional LSTM Model"
      ],
      "metadata": {
        "id": "OnInwSDIc8EM"
      },
      "execution_count": null,
      "outputs": []
    },
    {
      "cell_type": "code",
      "source": [
        "bi_lstm_model = Sequential(name=\"Bidirectional_LSTM\")\n",
        "bi_lstm_model.add(Embedding(vocab_size, embed_len, input_length=max_words))\n",
        "bi_lstm_model.add(Bidirectional(LSTM(128, activation='tanh',  return_sequences=False)))\n",
        "bi_lstm_model.add(Dense(1, activation='sigmoid'))"
      ],
      "metadata": {
        "id": "ZtTna5izc8HG"
      },
      "execution_count": 27,
      "outputs": []
    },
    {
      "cell_type": "code",
      "source": [
        "bi_lstm_model.summary()"
      ],
      "metadata": {
        "colab": {
          "base_uri": "https://localhost:8080/"
        },
        "id": "shFc9I1lc8J9",
        "outputId": "cd389603-bb36-4548-8d1d-73d4223c1ebc"
      },
      "execution_count": 28,
      "outputs": [
        {
          "output_type": "stream",
          "name": "stdout",
          "text": [
            "Model: \"Bidirectional_LSTM\"\n",
            "_________________________________________________________________\n",
            " Layer (type)                Output Shape              Param #   \n",
            "=================================================================\n",
            " embedding_4 (Embedding)     (None, 400, 32)           160000    \n",
            "                                                                 \n",
            " bidirectional (Bidirection  (None, 256)               164864    \n",
            " al)                                                             \n",
            "                                                                 \n",
            " dense_4 (Dense)             (None, 1)                 257       \n",
            "                                                                 \n",
            "=================================================================\n",
            "Total params: 325121 (1.24 MB)\n",
            "Trainable params: 325121 (1.24 MB)\n",
            "Non-trainable params: 0 (0.00 Byte)\n",
            "_________________________________________________________________\n"
          ]
        }
      ]
    },
    {
      "cell_type": "code",
      "source": [
        "# Compiling the model\n",
        "bi_lstm_model.compile(loss=\"binary_crossentropy\", optimizer='adam', metrics=['accuracy'])"
      ],
      "metadata": {
        "id": "cv3BunX2c8Nl"
      },
      "execution_count": 29,
      "outputs": []
    },
    {
      "cell_type": "code",
      "source": [
        "# Training the model\n",
        "history4 = bi_lstm_model.fit(x_train_, y_train_,\n",
        "                         batch_size=64,\n",
        "                         epochs=5,\n",
        "                         verbose=1,\n",
        "                         validation_data=(x_valid, y_valid))"
      ],
      "metadata": {
        "colab": {
          "base_uri": "https://localhost:8080/"
        },
        "id": "xKjS60l4c8QW",
        "outputId": "076ebc6b-5269-4c96-fcb0-b95bc0f5b77f"
      },
      "execution_count": 30,
      "outputs": [
        {
          "output_type": "stream",
          "name": "stdout",
          "text": [
            "Epoch 1/5\n",
            "390/390 [==============================] - 39s 92ms/step - loss: 0.6760 - accuracy: 0.6100 - val_loss: 0.6237 - val_accuracy: 0.6406\n",
            "Epoch 2/5\n",
            "390/390 [==============================] - 20s 53ms/step - loss: 0.5053 - accuracy: 0.7577 - val_loss: 0.3210 - val_accuracy: 0.8906\n",
            "Epoch 3/5\n",
            "390/390 [==============================] - 15s 39ms/step - loss: 0.3574 - accuracy: 0.8526 - val_loss: 0.2431 - val_accuracy: 0.9219\n",
            "Epoch 4/5\n",
            "390/390 [==============================] - 14s 37ms/step - loss: 0.2887 - accuracy: 0.8851 - val_loss: 0.2634 - val_accuracy: 0.9219\n",
            "Epoch 5/5\n",
            "390/390 [==============================] - 14s 36ms/step - loss: 0.2531 - accuracy: 0.9021 - val_loss: 0.2507 - val_accuracy: 0.8906\n"
          ]
        }
      ]
    },
    {
      "cell_type": "code",
      "source": [
        "#model accuracy on test data\n",
        "print(\"Bidirectional LSTM model Score---> \", bi_lstm_model.evaluate(x_test, y_test, verbose=0))"
      ],
      "metadata": {
        "colab": {
          "base_uri": "https://localhost:8080/"
        },
        "id": "28Ic_qVhc8SS",
        "outputId": "f3f1e703-5993-47ec-bf19-5ee52dfba132"
      },
      "execution_count": 31,
      "outputs": [
        {
          "output_type": "stream",
          "name": "stdout",
          "text": [
            "Bidirectional LSTM model Score--->  [0.35963839292526245, 0.8539999723434448]\n"
          ]
        }
      ]
    },
    {
      "cell_type": "code",
      "source": [
        "# Bidirectional LSTM gave a test score of 85.39%"
      ],
      "metadata": {
        "id": "XhbU8emJc8Un"
      },
      "execution_count": null,
      "outputs": []
    },
    {
      "cell_type": "code",
      "source": [
        "#Conclusion\n",
        "#Out of all the models, for the given dataset of IMDB reviews, the GRU model gave the best result in terms of accuracy"
      ],
      "metadata": {
        "id": "pppZIWhVc8WI"
      },
      "execution_count": null,
      "outputs": []
    }
  ]
}